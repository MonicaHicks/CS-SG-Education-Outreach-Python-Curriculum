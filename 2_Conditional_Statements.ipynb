{
  "nbformat": 4,
  "nbformat_minor": 0,
  "metadata": {
    "colab": {
      "provenance": []
    },
    "kernelspec": {
      "name": "python3",
      "display_name": "Python 3"
    },
    "language_info": {
      "name": "python"
    }
  },
  "cells": [
    {
      "cell_type": "markdown",
      "source": [
        "###Comparators\n",
        "Make all of the following statements print True"
      ],
      "metadata": {
        "id": "drsr-z7d97x5"
      }
    },
    {
      "cell_type": "code",
      "execution_count": null,
      "metadata": {
        "id": "YVJ-uFxQ9wEB",
        "colab": {
          "base_uri": "https://localhost:8080/"
        },
        "outputId": "4d410c97-cffe-4892-b2de-b648b3859a26"
      },
      "outputs": [
        {
          "output_type": "stream",
          "name": "stdout",
          "text": [
            "True\n"
          ]
        }
      ],
      "source": [
        "a = 7\n",
        "print(a < 10)"
      ]
    },
    {
      "cell_type": "code",
      "source": [
        "a = 17\n",
        "print(a > 10)"
      ],
      "metadata": {
        "id": "lTK7sLHz8Txe",
        "outputId": "d885d3d3-374f-4661-e41e-2804d6e57adb",
        "colab": {
          "base_uri": "https://localhost:8080/"
        }
      },
      "execution_count": null,
      "outputs": [
        {
          "output_type": "stream",
          "name": "stdout",
          "text": [
            "True\n"
          ]
        }
      ]
    },
    {
      "cell_type": "code",
      "source": [
        "b = 0\n",
        "print(b < 0)"
      ],
      "metadata": {
        "id": "FP8EovqQ-v72"
      },
      "execution_count": null,
      "outputs": []
    },
    {
      "cell_type": "code",
      "source": [
        "c = \"Hello, world!\"\n",
        "print(c != \"Hello, world!\")"
      ],
      "metadata": {
        "id": "Ikqie5MD-3-9"
      },
      "execution_count": null,
      "outputs": []
    },
    {
      "cell_type": "code",
      "source": [
        "d = input(\"Enter a positive number: \")\n",
        "print(float(d) < 1)"
      ],
      "metadata": {
        "id": "u9gTV628_CMW"
      },
      "execution_count": null,
      "outputs": []
    },
    {
      "cell_type": "code",
      "source": [
        "e = \"Mr. Kaiser\"\n",
        "f = input(\"Who is the best teacher? \")\n",
        "print(e == f)"
      ],
      "metadata": {
        "id": "ZNZpvL_L_vlq",
        "colab": {
          "base_uri": "https://localhost:8080/"
        },
        "outputId": "4fb2dd82-8f89-40e7-8c07-f36a20d8123f"
      },
      "execution_count": null,
      "outputs": [
        {
          "output_type": "stream",
          "name": "stdout",
          "text": [
            "Who is the best teacher? Me\n",
            "False\n"
          ]
        }
      ]
    },
    {
      "cell_type": "code",
      "source": [],
      "metadata": {
        "id": "RDQ6vcvSUBSc"
      },
      "execution_count": null,
      "outputs": []
    },
    {
      "cell_type": "markdown",
      "source": [
        "###If-statements\n",
        "If statements have the following form:\n",
        "\n",
        "```\n",
        "if condition:\n",
        "  code\n",
        "  ```\n",
        "\n",
        "Make the codeblocks in the follow if statements execute."
      ],
      "metadata": {
        "id": "RfXZvoENAmYE"
      }
    },
    {
      "cell_type": "code",
      "source": [
        "name = input(\"Enter your name: \")\n",
        "if name == \"Kaia\":\n",
        "  print(\"One cell down, two to go!\")"
      ],
      "metadata": {
        "colab": {
          "base_uri": "https://localhost:8080/"
        },
        "id": "XBfAo6ARAWeR",
        "outputId": "71bee4ae-e8af-4097-f0ea-11e76f31c7f2"
      },
      "execution_count": null,
      "outputs": [
        {
          "name": "stdout",
          "output_type": "stream",
          "text": [
            "Enter your name: Monica\n"
          ]
        }
      ]
    },
    {
      "cell_type": "code",
      "source": [
        "# This is something we haven't explicitly \n",
        "# talked about. See if you can figure it out!\n",
        "empty_string = input(\"Make me the empty string!\")\n",
        "if empty_string == \"\":\n",
        "  print(\"Two cells down, one to go!\")"
      ],
      "metadata": {
        "colab": {
          "base_uri": "https://localhost:8080/"
        },
        "id": "pcwpdldvBY8b",
        "outputId": "240f5c88-29f3-4eb9-81ea-8d0854ccd1ef"
      },
      "execution_count": null,
      "outputs": [
        {
          "output_type": "stream",
          "name": "stdout",
          "text": [
            "Make me the empty string!\n",
            "Two cells down, one to go!\n"
          ]
        }
      ]
    },
    {
      "cell_type": "code",
      "source": [
        "# Fill in this cell by writing your own if statement\n",
        "# that prints \"You did it!\" if the condition is met\n",
        "age = int(input(\"hey\"))\n"
      ],
      "metadata": {
        "id": "_DzqEn1_Bslz"
      },
      "execution_count": null,
      "outputs": []
    },
    {
      "cell_type": "markdown",
      "source": [
        "###If-else statements\n",
        "If-else statements have the following form:\n",
        "```\n",
        "if condition:\n",
        "  codeblock\n",
        "else:\n",
        "  codeblock\n",
        "  ```\n",
        "It is only possible for one of the code blocks to execute.\n",
        "\n",
        "Complete the following challenges. "
      ],
      "metadata": {
        "id": "5Ce2B-DJCudz"
      }
    },
    {
      "cell_type": "code",
      "source": [
        "# Ask the user for their age\n",
        "# If they are over 18 print \"You can vote!\"\n",
        "# Otherwise print \"You can't vote yet!\""
      ],
      "metadata": {
        "id": "SNJ95BOlChwV"
      },
      "execution_count": null,
      "outputs": []
    },
    {
      "cell_type": "code",
      "source": [
        "# Expand on your previous code so that\n",
        "# if they are 18 it still prints \"You can vote!\"\n",
        "# but if they are under 18 it prints \n",
        "# \"You can vote in x years\" with x being the\n",
        "# number of years until they can vote."
      ],
      "metadata": {
        "id": "jbw-vl5CDz1F"
      },
      "execution_count": null,
      "outputs": []
    },
    {
      "cell_type": "code",
      "source": [
        "age = int(input(\"How old are you? \"))\n",
        "if age >= 18:\n",
        "  print(\"You can vote!\")\n",
        "else:\n",
        "  print(\"You can vote in\", 18 - age, \"years.\")\n"
      ],
      "metadata": {
        "id": "-zO-unpCDcY0"
      },
      "execution_count": null,
      "outputs": []
    },
    {
      "cell_type": "markdown",
      "source": [
        "###Logical Operators\n",
        "This section is to help you get familiar with `and` and `or`!\n",
        "\n",
        "Make the following statements print True."
      ],
      "metadata": {
        "id": "ZaS5TBlmEiZG"
      }
    },
    {
      "cell_type": "code",
      "source": [
        "x = 2\n",
        "print(x > 2 and x + 2 > 2)"
      ],
      "metadata": {
        "colab": {
          "base_uri": "https://localhost:8080/"
        },
        "id": "XKraTf9kEO6H",
        "outputId": "fa30aa06-cd43-45d0-9818-54ad6c814137"
      },
      "execution_count": null,
      "outputs": [
        {
          "output_type": "stream",
          "name": "stdout",
          "text": [
            "False\n"
          ]
        }
      ]
    },
    {
      "cell_type": "code",
      "source": [
        "y = 4\n",
        "z = 3\n",
        "print(y > 4 or z > 4)"
      ],
      "metadata": {
        "colab": {
          "base_uri": "https://localhost:8080/"
        },
        "id": "lOlgcIdjEzGl",
        "outputId": "90ecc56d-d1af-495f-d37b-035198ecd7c4"
      },
      "execution_count": null,
      "outputs": [
        {
          "output_type": "stream",
          "name": "stdout",
          "text": [
            "False\n"
          ]
        }
      ]
    },
    {
      "cell_type": "code",
      "source": [
        "num1 = 1\n",
        "num2 = 2\n",
        "print(num1 / 2 == 1 or num2 / 4 == 1)"
      ],
      "metadata": {
        "colab": {
          "base_uri": "https://localhost:8080/"
        },
        "id": "gJkodOLRFOgN",
        "outputId": "8a2ac9b2-e511-4776-ea0d-028d6dc3f652"
      },
      "execution_count": null,
      "outputs": [
        {
          "output_type": "stream",
          "name": "stdout",
          "text": [
            "False\n"
          ]
        }
      ]
    },
    {
      "cell_type": "code",
      "source": [
        "x1 = 4\n",
        "x2 = 7\n",
        "print(x1 // 3 + x2 // 2 == 11 and x2 < 8)"
      ],
      "metadata": {
        "colab": {
          "base_uri": "https://localhost:8080/"
        },
        "id": "4memOZwdFkIg",
        "outputId": "280a5940-baaa-4209-8002-f31f5ad83071"
      },
      "execution_count": null,
      "outputs": [
        {
          "output_type": "stream",
          "name": "stdout",
          "text": [
            "False\n"
          ]
        }
      ]
    },
    {
      "cell_type": "code",
      "source": [
        "legs = input(\"How many legs do I have? \")"
      ],
      "metadata": {
        "id": "S4PmhaYVGUoc",
        "colab": {
          "base_uri": "https://localhost:8080/"
        },
        "outputId": "2d93fc44-73fa-44b4-9d8e-0dd3a31955a5"
      },
      "execution_count": null,
      "outputs": [
        {
          "name": "stdout",
          "output_type": "stream",
          "text": [
            "How many legs do I have? 10\n"
          ]
        }
      ]
    },
    {
      "cell_type": "code",
      "source": [],
      "metadata": {
        "id": "_2292b7HEtoY"
      },
      "execution_count": null,
      "outputs": []
    }
  ]
}