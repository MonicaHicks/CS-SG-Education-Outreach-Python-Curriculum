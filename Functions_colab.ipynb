{
  "nbformat": 4,
  "nbformat_minor": 0,
  "metadata": {
    "colab": {
      "provenance": []
    },
    "kernelspec": {
      "name": "python3",
      "display_name": "Python 3"
    },
    "language_info": {
      "name": "python"
    }
  },
  "cells": [
    {
      "cell_type": "markdown",
      "source": [
        "### Functions & arguments\n",
        "\n",
        "Here are some functions from slides, try playing around with them a bit!"
      ],
      "metadata": {
        "id": "xLJeIdXHRyEC"
      }
    },
    {
      "cell_type": "code",
      "source": [
        "def greet_user( ):\n",
        "\tname = input(\"Enter your name: \")\n",
        "\tprint(\"Hello\" + name)\n",
        "\n",
        "def even_or_odd( ):\n",
        "\tnumber = int(input(\"Enter a number:\"))\n",
        "\tif number % 2 == 0:\n",
        "\t\tprint(\"This number is even.\")\n",
        "\telse: \n",
        "\t\tprint(\"This number is odd.\")\n",
        "  \n",
        "def greet_user_specified_by_me(name):\n",
        "\t\tprint(\"Hello \" + name)"
      ],
      "metadata": {
        "id": "-wZ31RXa_Tha"
      },
      "execution_count": null,
      "outputs": []
    },
    {
      "cell_type": "markdown",
      "source": [
        "#### Thank you cards\n",
        "Now your turn! We have a function that writes a thank you card to aunt Mary. Your task is to modify it so you can use it to write thank you cards to any relative for any gift. Even better if you can make it so that *anyone* can use it to write thank you cards by passing in their name!"
      ],
      "metadata": {
        "id": "oT0szwczRNDG"
      }
    },
    {
      "cell_type": "code",
      "source": [
        "def write_thank_you_card():\n",
        "  relative = \"aunt Mary\"\n",
        "  gift = \"scarf\"\n",
        "  print(\"Dear \" + relative + \",\")\n",
        "  print(\"\")\n",
        "  print(\"Thank you for the \" + gift + \".\")\n",
        "  print(\"I really love it!\")\n",
        "  print(\"\")\n",
        "  print(\"Best,\")\n",
        "  print(\"[Your Name]\")\n",
        "\n",
        "write_thank_you_card(\"aunt Mary\", \"scarf\")\n",
        "write_thank_you_card(\"uncle Ben\", \"pen\")"
      ],
      "metadata": {
        "id": "ZMqe9JxsSEI2",
        "colab": {
          "base_uri": "https://localhost:8080/"
        },
        "outputId": "89869604-99bb-4625-86b5-734ff54b0ab3"
      },
      "execution_count": null,
      "outputs": [
        {
          "output_type": "stream",
          "name": "stdout",
          "text": [
            "Dear aunt Mary,\n",
            "\n",
            "Thank you for the scarf.\n",
            "I really love it!\n",
            "\n",
            "Best,\n",
            "[Your Name]\n"
          ]
        }
      ]
    },
    {
      "cell_type": "markdown",
      "source": [
        "#### Tracing\n",
        "Don't run this block yet! Read through the code and try to predict what it will print, then run it to check if you have it right! We will talk more about this when we come back from code break."
      ],
      "metadata": {
        "id": "mybIZpr4Xsi7"
      }
    },
    {
      "cell_type": "code",
      "source": [
        "def add(y, x):\n",
        "    z = x + y\n",
        "    print(\"variables in function: \", x, y, z)\n",
        "\n",
        "x = 4\n",
        "y = 8\n",
        "z = y - 1\n",
        "add(x, z)\n",
        "print(\"variables outside of function: \", x, y, z)"
      ],
      "metadata": {
        "colab": {
          "base_uri": "https://localhost:8080/"
        },
        "id": "I3Gv33XVXb7K",
        "outputId": "fc02e472-1bce-4a6a-f5ab-8a81df4ea74e"
      },
      "execution_count": null,
      "outputs": [
        {
          "output_type": "stream",
          "name": "stdout",
          "text": [
            "variables in function:  7 4 11\n",
            "variables outside of function:  4 8 7\n"
          ]
        }
      ]
    },
    {
      "cell_type": "markdown",
      "source": [
        "### Return\n",
        "We have seen functions can return values. This is an example from lecture, feel free to play around with it a bit!"
      ],
      "metadata": {
        "id": "Dba41NTJ-MFj"
      }
    },
    {
      "cell_type": "code",
      "source": [
        "def return_sum(a, b):\n",
        "  sum = a + b\n",
        "  return sum"
      ],
      "metadata": {
        "id": "B4hwdKOn-VNQ"
      },
      "execution_count": null,
      "outputs": []
    },
    {
      "cell_type": "markdown",
      "source": [
        "#### Heights\n",
        "In this practice, we have provided you a function that asks user to enter a height and returns the value. Use this function to ask user for their height and the height of the person next to them, then tell them what's the difference between their heights."
      ],
      "metadata": {
        "id": "sX1OPJgWSEdg"
      }
    },
    {
      "cell_type": "code",
      "source": [
        "def get_height():\n",
        "  ret = input(\"Enter a height: \")\n",
        "  while (float(ret) < 0):\n",
        "    ret = input(\"You can't have a negative height! Try again: \")\n",
        "  return float(ret)\n",
        "\n",
        "print(\"What's your height?\")\n",
        "print(\"What's the height of the person next to you?\")"
      ],
      "metadata": {
        "colab": {
          "base_uri": "https://localhost:8080/",
          "height": 53
        },
        "id": "sWNZWxT4Prwj",
        "outputId": "2f39c6ef-df3d-4214-be3b-d12a8d397565"
      },
      "execution_count": null,
      "outputs": [
        {
          "name": "stdout",
          "output_type": "stream",
          "text": [
            "Please enter a number: sds\n"
          ]
        },
        {
          "output_type": "execute_result",
          "data": {
            "text/plain": [
              "'sds'"
            ],
            "application/vnd.google.colaboratory.intrinsic+json": {
              "type": "string"
            }
          },
          "metadata": {},
          "execution_count": 9
        }
      ]
    },
    {
      "cell_type": "markdown",
      "source": [
        "### (Optional) An introduction to recursion\n",
        "As a challenge, try to figure out how this function works! (We'll talk about it more later)"
      ],
      "metadata": {
        "id": "OesQxqjv77bQ"
      }
    },
    {
      "cell_type": "code",
      "source": [
        "# simple recursion!\n",
        "def count_to_zero(number):\n",
        "  if number == 0:  # if the argument is 0, stop!\n",
        "    print(\"0!\")\n",
        "  elif number < 0:  # we can't count down to 0 if we start below 0!\n",
        "    print(\"Too low!\")\n",
        "  else:\n",
        "    # print the number and call the function again,\n",
        "    # subtracting 1 from the argument. One step closer to 0!\n",
        "    print(str(number))\n",
        "    count_to_zero(number - 1)\n",
        "\n",
        "count_to_zero(5)   # try changing this number! "
      ],
      "metadata": {
        "id": "V09O2Uw87jWl"
      },
      "execution_count": null,
      "outputs": []
    }
  ]
}