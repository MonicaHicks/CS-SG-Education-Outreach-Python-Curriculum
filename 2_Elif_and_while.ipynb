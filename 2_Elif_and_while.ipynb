{
  "nbformat": 4,
  "nbformat_minor": 0,
  "metadata": {
    "colab": {
      "provenance": []
    },
    "kernelspec": {
      "name": "python3",
      "display_name": "Python 3"
    },
    "language_info": {
      "name": "python"
    }
  },
  "cells": [
    {
      "cell_type": "markdown",
      "source": [
        "###1. Elif Statements\n",
        "Elif statements have the form\n",
        "```\n",
        "if condition A:\n",
        "  this code runs only if condition A is true\n",
        "elif condition B:\n",
        "  this code runs if condition A is false and B is true\n",
        "else:\n",
        "  this code runs if both A and B are false\n",
        "```\n",
        "Example:"
      ],
      "metadata": {
        "id": "mhlkT0UxT5oW"
      }
    },
    {
      "cell_type": "code",
      "source": [
        "num = int(input(\"Give me a number: \"))\n",
        "if num > 0:\n",
        "  print(\"It's a positive number!\")\n",
        "elif num < 0:\n",
        "  print(\"It's a negative number!\")\n",
        "else:\n",
        "  print(\"It's neigher positive nor negative!\")"
      ],
      "metadata": {
        "id": "J6l3e__ZZmYq",
        "colab": {
          "base_uri": "https://localhost:8080/"
        },
        "outputId": "aee988f9-f3a1-4242-a7dd-4c667cc612d3"
      },
      "execution_count": null,
      "outputs": [
        {
          "output_type": "stream",
          "name": "stdout",
          "text": [
            "Give me a number: 2\n",
            "It's a positive number!\n"
          ]
        }
      ]
    },
    {
      "cell_type": "markdown",
      "source": [
        "#### 1.1 Temperature\n",
        "Given the current room temperature, print what you think: too hot? too cold? just right?"
      ],
      "metadata": {
        "id": "kqbW_rSPgtJ9"
      }
    },
    {
      "cell_type": "code",
      "source": [
        "temperature = int(input(\"Room temperature is: \"))\n",
        "# your code goes here!"
      ],
      "metadata": {
        "id": "MIlbY4jKhboP"
      },
      "execution_count": null,
      "outputs": []
    },
    {
      "cell_type": "markdown",
      "source": [
        "#### 1.2 Raw grade to letter grade\n",
        "Write code to convert a raw grade in the range 0-100 to letter grade in the range A-F\n",
        "\n",
        "You'll need multiple elif statements. Think about the order you want to place them to keep the code as simple as possible!"
      ],
      "metadata": {
        "id": "h2P0N0W7Un3G"
      }
    },
    {
      "cell_type": "code",
      "source": [
        "raw_grade = int(input(\"Enter raw grade: \"))\n",
        "letter_grade = \"???\"\n",
        "# insert code to set letter_grade to something A-F based on raw grade\n",
        "print(\"The raw grade converts to letter grade \", letter_grade)"
      ],
      "metadata": {
        "id": "_1z06rnOUc3k",
        "colab": {
          "base_uri": "https://localhost:8080/"
        },
        "outputId": "571b17c3-a9a4-4d2b-c66a-c7dbd2cf1888"
      },
      "execution_count": null,
      "outputs": [
        {
          "name": "stdout",
          "output_type": "stream",
          "text": [
            "Enter raw grade: 90\n"
          ]
        }
      ]
    },
    {
      "cell_type": "markdown",
      "source": [
        "### 2. While loops\n",
        "while loops will repeatedly check if the condition and run everything inside if the condition is true.\n",
        "\n",
        "Example:"
      ],
      "metadata": {
        "id": "7WkootshUwSF"
      }
    },
    {
      "cell_type": "code",
      "source": [
        "# this code keeps asking user for input till they enter q\n",
        "user_input = \"\"\n",
        "while user_input != \"q\":\n",
        "  user_input = input(\"Enter q to quit \")\n",
        "  print(\"---------\")\n",
        "print(\"Quit success!\")"
      ],
      "metadata": {
        "colab": {
          "base_uri": "https://localhost:8080/"
        },
        "id": "2T-IbLf0YwQI",
        "outputId": "015a1353-9746-485c-c285-20d8507ce2f1"
      },
      "execution_count": null,
      "outputs": [
        {
          "output_type": "stream",
          "name": "stdout",
          "text": [
            "Enter q to quit a\n",
            "---------\n",
            "Enter q to quit g\n",
            "---------\n",
            "Enter q to quit q\n",
            "---------\n",
            "Quit success!\n"
          ]
        }
      ]
    },
    {
      "cell_type": "markdown",
      "source": [
        "#### 2.1 Who is the best teacher?\n",
        "Below is code from the comparators practice we did last time. Now modify it so that instead of printing a true or false message, ask user to re-think and enter a new response till they get it right!"
      ],
      "metadata": {
        "id": "XF3B8As8agxu"
      }
    },
    {
      "cell_type": "code",
      "source": [
        "e = \"Mr. Kaiser\"\n",
        "f = input(\"Who is the best teacher? \")\n",
        "print(e == f)"
      ],
      "metadata": {
        "id": "bWjHbkF4c7nt"
      },
      "execution_count": null,
      "outputs": []
    },
    {
      "cell_type": "markdown",
      "source": [
        "#### 2.2 Secret number guesser\n",
        "The challenges before are no match for you! \n",
        "\n",
        "Now you will implement the secret number guesser game. In this game, the computer picks a random number and asks the user to guess it.\n",
        "\n",
        "Your code should keep prompting user for their guess till they guess the correct number and print a contratulary message. If the guess is incorrect, tell the user if it's too low or too high.\n",
        "\n",
        "You might want to use elif as well!"
      ],
      "metadata": {
        "id": "0YrLx6BYVFvs"
      }
    },
    {
      "cell_type": "code",
      "source": [
        "# this two lines generates a secret number in range 0-100\n",
        "import random as rd\n",
        "secret_num = rd.randint(0, 100)\n",
        "# Your code below!"
      ],
      "metadata": {
        "id": "A0aXZhXxVLVw"
      },
      "execution_count": null,
      "outputs": []
    }
  ]
}