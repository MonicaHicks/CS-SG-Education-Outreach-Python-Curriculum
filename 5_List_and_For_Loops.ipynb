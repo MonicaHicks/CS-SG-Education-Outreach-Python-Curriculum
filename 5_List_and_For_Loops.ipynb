{
  "nbformat": 4,
  "nbformat_minor": 0,
  "metadata": {
    "colab": {
      "provenance": []
    },
    "kernelspec": {
      "name": "python3",
      "display_name": "Python 3"
    },
    "language_info": {
      "name": "python"
    }
  },
  "cells": [
    {
      "cell_type": "markdown",
      "source": [
        "### String indexing"
      ],
      "metadata": {
        "id": "rtkXovIhVxBd"
      }
    },
    {
      "cell_type": "markdown",
      "source": [
        "In this section, you will get to play with string indexing. \n",
        "\n",
        "Remember that you index into a string using square brackets `[]`.\n",
        "The syntax is `my_str[n]` where `my_str` is the string you want to index into, and `n` is the index you wish to access. Don't forget that `n` can be negative if you want to begin indexing from the end of the string. "
      ],
      "metadata": {
        "id": "BxX6tRkvV2zC"
      }
    },
    {
      "cell_type": "code",
      "execution_count": null,
      "metadata": {
        "id": "271chYQIVPBG",
        "colab": {
          "base_uri": "https://localhost:8080/"
        },
        "outputId": "9344851e-caf6-4c15-9c05-28a5d3e093c0"
      },
      "outputs": [
        {
          "output_type": "stream",
          "name": "stdout",
          "text": [
            "\n"
          ]
        }
      ],
      "source": [
        "# Given the string hello, print \"H\"\n",
        "hello = \"Hello, world!\"\n",
        "\n",
        "print()"
      ]
    },
    {
      "cell_type": "code",
      "source": [
        "# Given the string sentence, print your \n",
        "# favorite 3 letter word\n",
        "sentence = \"The quick brown fox jumped over the lazy dog.\"\n",
        "\n",
        "print()"
      ],
      "metadata": {
        "colab": {
          "base_uri": "https://localhost:8080/"
        },
        "id": "oebHLs70zlfQ",
        "outputId": "5fa47eb9-1e4c-48df-dc75-bdc7d1b69c7b"
      },
      "execution_count": null,
      "outputs": [
        {
          "output_type": "stream",
          "name": "stdout",
          "text": [
            "\n"
          ]
        }
      ]
    },
    {
      "cell_type": "code",
      "source": [
        "# Print 'a' using negative indexing\n",
        "text = \"The second to last letter is an a!\"\n",
        "\n",
        "print()"
      ],
      "metadata": {
        "colab": {
          "base_uri": "https://localhost:8080/"
        },
        "id": "PhTC8Eqk0N1S",
        "outputId": "8f428bb1-736b-46f2-b425-b27714d340f5"
      },
      "execution_count": null,
      "outputs": [
        {
          "output_type": "stream",
          "name": "stdout",
          "text": [
            "\n"
          ]
        }
      ]
    },
    {
      "cell_type": "markdown",
      "source": [
        "### Lists\n",
        "\n",
        "In this section you will get to play around with lists. \n",
        "Remember that you can index into lists the same way as\n",
        "strings with the bracket notation: `my_lst[0]` and `my_lst[-1]`.\n",
        "\n",
        "Here is a reminder of your list functions: \n",
        "\n",
        "`.append()` adds the variable inside the parentheses to the back of the list\n",
        "\n",
        "`.pop()` removes the element at the index inside the parentheses and returns it\n",
        "\n",
        "`.remove()` removes the element with the value inside the parentheses and returns it"
      ],
      "metadata": {
        "id": "Cw7i2yiH1ZAj"
      }
    },
    {
      "cell_type": "code",
      "source": [
        "# for the problem below, print out:\n",
        "# banana\n",
        "# apples\n",
        "# kiwi\n",
        "my_lst = [\"apple\", \"banana\", \"kiwi\"]\n",
        "\n",
        "print()\n",
        "print()\n",
        "print()"
      ],
      "metadata": {
        "colab": {
          "base_uri": "https://localhost:8080/"
        },
        "id": "GoMcZxsd124s",
        "outputId": "6d25c0b8-aa6a-4851-f672-8d254a431b50"
      },
      "execution_count": null,
      "outputs": [
        {
          "output_type": "stream",
          "name": "stdout",
          "text": [
            "\n",
            "\n",
            "\n"
          ]
        }
      ]
    },
    {
      "cell_type": "code",
      "source": [
        "# Add your name to the following list\n",
        "students = [\"Kaia\", \"Winson\", \"Jenny\", \"Monica\"]\n",
        "\n",
        "# your code here\n",
        "print(students)"
      ],
      "metadata": {
        "colab": {
          "base_uri": "https://localhost:8080/"
        },
        "id": "8tGjUArR4enW",
        "outputId": "5b12cf0f-5901-4796-ed6b-6083cb012ff7"
      },
      "execution_count": null,
      "outputs": [
        {
          "output_type": "stream",
          "name": "stdout",
          "text": [
            "['Kaia', 'Winson', 'Jenny', 'Monica', 'me']\n"
          ]
        }
      ]
    },
    {
      "cell_type": "code",
      "source": [
        "# Remove the food that doesn't belong in this list\n",
        "fruits = [\"apple\", \"pizza\", \"pear\", \"watermelon\"]\n",
        "\n",
        "# your code here (feel free to use .pop() or .remove())\n",
        "print(fruits)"
      ],
      "metadata": {
        "colab": {
          "base_uri": "https://localhost:8080/"
        },
        "id": "JuZGJTfk56xh",
        "outputId": "93f0edcb-bbdd-40dc-d642-c5249443c2aa"
      },
      "execution_count": null,
      "outputs": [
        {
          "output_type": "stream",
          "name": "stdout",
          "text": [
            "['apple', 'pear', 'watermelon']\n"
          ]
        }
      ]
    },
    {
      "cell_type": "markdown",
      "source": [
        "### For-each Loops\n",
        "\n",
        "In this section, you will get to practice iterating through strings and lists by accessing one element at a time. Remember that lists and strings are zero-indexed. "
      ],
      "metadata": {
        "id": "n8ktjHBu2aga"
      }
    },
    {
      "cell_type": "code",
      "source": [
        "# Someone tried to make a list of berries, but they were lazy\n",
        "# and dropped the \"berry\" part for all of them!\n",
        "# Fill in the blanks below to make it print out a list of (complete) berry names\n",
        "berries = [\"Blue\", \"Black\", \"Straw\", \"Rasp\", \"Huckle\"]\n",
        "\n",
        "for element in ___:\n",
        "  print(___ + ___)"
      ],
      "metadata": {
        "id": "UxAYMHwu2qZQ"
      },
      "execution_count": null,
      "outputs": []
    },
    {
      "cell_type": "markdown",
      "source": [
        "###For-i-in-range Loops\n",
        "\n",
        "In this section, you will get some practice working with for loops using the `range()` function. "
      ],
      "metadata": {
        "id": "ppCdwu44VSUE"
      }
    },
    {
      "cell_type": "code",
      "source": [
        "# Make the following loop print 'Hello, world!' 5 times\n",
        "for i in range():\n",
        "  # your code here\n",
        "  "
      ],
      "metadata": {
        "id": "c0ea621VVctP",
        "colab": {
          "base_uri": "https://localhost:8080/"
        },
        "outputId": "c499f7a4-b594-46b5-cbc4-9884e3921c1c"
      },
      "execution_count": null,
      "outputs": [
        {
          "output_type": "stream",
          "name": "stdout",
          "text": [
            "Hello, world!\n",
            "Hello, world!\n",
            "Hello, world!\n",
            "Hello, world!\n",
            "Hello, world!\n"
          ]
        }
      ]
    },
    {
      "cell_type": "code",
      "source": [
        "# Modify this code to only print `i` if `i` is even\n",
        "for i in range(10):\n",
        "  # your code here"
      ],
      "metadata": {
        "id": "nRJqzveoWXnT",
        "colab": {
          "base_uri": "https://localhost:8080/"
        },
        "outputId": "0001482c-2d47-4b7c-c11e-270c7abb8c4c"
      },
      "execution_count": null,
      "outputs": [
        {
          "output_type": "stream",
          "name": "stdout",
          "text": [
            "0\n",
            "2\n",
            "4\n",
            "6\n",
            "8\n"
          ]
        }
      ]
    },
    {
      "cell_type": "markdown",
      "source": [
        "### Challenge Problem\n",
        "\n",
        "For the problem below, your code should print every letter on its own line. There should be at least one line with just a space on it. \n",
        "Example: <br>\n",
        "A <br>\n",
        "n<br>\n",
        "d<br>\n",
        "r<br>\n",
        "e<br>\n",
        "a<br>\n",
        "s<br>\n",
        "<br>\n",
        "K<br>\n",
        "a<br>\n",
        "i<br>\n",
        "s<br>\n",
        "e<br>\n",
        "r"
      ],
      "metadata": {
        "id": "fcoctSN5W6gc"
      }
    },
    {
      "cell_type": "code",
      "source": [
        "# Write some code that will print out each letter of \n",
        "# your full name on a separate line\n",
        "# Remember, a string is very similar to a list\n",
        "# You can treat a charcter in a string like an \n",
        "# element in a list\n",
        "\n",
        "name = ''' your name goes here '''\n",
        "\n",
        "# for loop goes here\n"
      ],
      "metadata": {
        "id": "DnCDLEfAWtht"
      },
      "execution_count": null,
      "outputs": []
    }
  ]
}
