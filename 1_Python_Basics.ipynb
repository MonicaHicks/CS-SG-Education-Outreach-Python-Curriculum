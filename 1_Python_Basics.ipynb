{
  "nbformat": 4,
  "nbformat_minor": 0,
  "metadata": {
    "colab": {
      "provenance": []
    },
    "kernelspec": {
      "name": "python3",
      "display_name": "Python 3"
    },
    "language_info": {
      "name": "python"
    }
  },
  "cells": [
    {
      "cell_type": "code",
      "source": [
        "# Running this cell will show you that\n",
        "# x is initialized to the value 20\n",
        "# Play around with setting it to be \n",
        "# a different value (int/float/str).\n",
        "# Press `cmd + return' to run the cell\n",
        "x = 20\n",
        "# The line below prints the value \n",
        "# stored in the variable x\n",
        "x"
      ],
      "metadata": {
        "colab": {
          "base_uri": "https://localhost:8080/"
        },
        "id": "4xDin5aW4VHz",
        "outputId": "4d189253-5c4c-4f63-8a1a-472b4ff7f6c7"
      },
      "execution_count": null,
      "outputs": [
        {
          "output_type": "execute_result",
          "data": {
            "text/plain": [
              "20"
            ]
          },
          "metadata": {},
          "execution_count": 1
        }
      ]
    },
    {
      "cell_type": "code",
      "source": [
        "# Printing \"Hello, world!\" is a rite\n",
        "# of passage for all new programmers.\n",
        "print(\"Hello, world!\")"
      ],
      "metadata": {
        "id": "MfMEUoBGXppU",
        "outputId": "a0e9cbcd-6259-427d-e7ee-0e37d0f27017",
        "colab": {
          "base_uri": "https://localhost:8080/"
        }
      },
      "execution_count": null,
      "outputs": [
        {
          "output_type": "stream",
          "name": "stdout",
          "text": [
            "Hello, world\n"
          ]
        }
      ]
    },
    {
      "cell_type": "code",
      "source": [
        "# The print function can print integers\n",
        "twenty_five = 25\n",
        "print(twenty_five)"
      ],
      "metadata": {
        "id": "7PfpiChFXr49"
      },
      "execution_count": null,
      "outputs": []
    },
    {
      "cell_type": "code",
      "source": [
        "# It can also print decimal values\n",
        "pi = 3.14159\n",
        "print(pi)"
      ],
      "metadata": {
        "id": "N-3mrkifXugC"
      },
      "execution_count": null,
      "outputs": []
    },
    {
      "cell_type": "code",
      "source": [
        "# It can also print boolean values\n",
        "are_equal = (5 == 5)\n",
        "print(are_equal)"
      ],
      "metadata": {
        "id": "wg8YJEFcXwRD"
      },
      "execution_count": null,
      "outputs": []
    },
    {
      "cell_type": "code",
      "source": [
        "# Perhaps you didn't believe us that \n",
        "# these two strings are equal. \n",
        "# We invite you to test it out for yourself :)\n",
        "print(\"Hello, world!\" == 'Hello, world!')"
      ],
      "metadata": {
        "id": "s34joVXXXyeZ"
      },
      "execution_count": null,
      "outputs": []
    },
    {
      "cell_type": "code",
      "source": [
        "# This is the example from the slides\n",
        "# This code won't run because the computer can't\n",
        "# figure out where the string begins and ends\n",
        "print('I love coding! It's fun!')"
      ],
      "metadata": {
        "id": "btGJmArUX09N"
      },
      "execution_count": null,
      "outputs": []
    },
    {
      "cell_type": "code",
      "source": [
        "# This code compares the value of the STRING\n",
        "# \"25\" to the value of the INTEGER 25\n",
        "x = \"25\"\n",
        "print(x == 25)"
      ],
      "metadata": {
        "id": "zRTVCP6ZX3BF"
      },
      "execution_count": null,
      "outputs": []
    },
    {
      "cell_type": "code",
      "source": [
        "# This is float division\n",
        "# It will always produce a decimal\n",
        "print(5 / 2)\n",
        "# What will the output be if you \n",
        "# the 5 to a 4?\n",
        "# Try it!"
      ],
      "metadata": {
        "id": "Mnlvhg-bX50V"
      },
      "execution_count": null,
      "outputs": []
    },
    {
      "cell_type": "code",
      "source": [
        "# This is integer division\n",
        "# it will only produce a decimal\n",
        "# if one of the values is a float\n",
        "print(5 // 2)\n",
        "# What will the output be if you\n",
        "# change 5 to 5.0?\n",
        "# Try it!"
      ],
      "metadata": {
        "id": "aUeH57_kX8HU"
      },
      "execution_count": null,
      "outputs": []
    },
    {
      "cell_type": "code",
      "source": [
        "# This code box is for you to play\n",
        "# around in \n",
        "# Try out some different code here to \n",
        "# test your understanding"
      ],
      "metadata": {
        "id": "hdbPHdk-XPGr"
      },
      "execution_count": null,
      "outputs": []
    }
  ]
}
